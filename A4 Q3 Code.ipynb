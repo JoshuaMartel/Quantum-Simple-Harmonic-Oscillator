{
 "cells": [
  {
   "cell_type": "code",
   "execution_count": 1,
   "metadata": {},
   "outputs": [
    {
     "name": "stdout",
     "output_type": "stream",
     "text": [
      "Populating the interactive namespace from numpy and matplotlib\n"
     ]
    }
   ],
   "source": [
    "%pylab nbagg\n",
    "%matplotlib inline"
   ]
  },
  {
   "cell_type": "code",
   "execution_count": 79,
   "metadata": {},
   "outputs": [],
   "source": [
    "def V(x,m,w):\n",
    "    return (0.5*m*(w**2)*x**2)\n",
    "\n",
    "def func0(x,m,w):\n",
    "    E0 = 0.1657*10**-17\n",
    "    E2 = 5*E0\n",
    "    return E0+10**(-6)*E2*e0(x,m,w)\n",
    "\n",
    "def func1(x,m,w):\n",
    "    E0 = 0.1657*10**-17\n",
    "    E1 = 3*E0\n",
    "    E2 = 5*E0\n",
    "    return E1+10**(-6)*E2*e1(x,m,w)\n",
    "\n",
    "def func2(x,m,w):\n",
    "    E0 = 0.1657*10**-17\n",
    "    E2 = 5*E0\n",
    "    return E2+10**(-6)*E2*e2(x,m,w)\n",
    "\n",
    "def e2(x,m,w):\n",
    "    hb = 1.055*10**(-34)\n",
    "    beta = m*w/hb/pi\n",
    "    ex = exp((-beta*pi*x**2)/2)\n",
    "    y = beta**(0.25)*ex*(4*x**2 - 2*hb/m/w)    \n",
    "    return y\n",
    "\n",
    "def e1(x,m,w):\n",
    "    hb = 1.055*10**(-34)\n",
    "    beta = m*w/hb/pi\n",
    "    ex = exp((-beta*pi*x**2)/2)\n",
    "    y = beta**(0.25)*ex*(2*x)\n",
    "    return y\n",
    "\n",
    "def e0(x,m,w):\n",
    "    hb = 1.055*10**(-34)\n",
    "    beta = m*w/hb/pi\n",
    "    ex = exp((-beta*pi*x**2)/2)\n",
    "    return beta**(0.25)*ex\n",
    "\n",
    "\n",
    "    \n",
    "    "
   ]
  },
  {
   "cell_type": "code",
   "execution_count": 80,
   "metadata": {},
   "outputs": [],
   "source": [
    "#Mass of Electron in kg\n",
    "m = 9.10938356*10**(-31)\n",
    "#Frequency (orange spectrum)\n",
    "w = 2*pi*5*10**15\n",
    "#Distance interval\n",
    "x = np.linspace(-2*10**-10,2*10**-10,1000)\n",
    "y = V(x,m,w)\n",
    "E0 = 0.1657*10**-17\n",
    "E1 = 3*E0\n",
    "E2 = 5*E0\n"
   ]
  },
  {
   "cell_type": "code",
   "execution_count": 81,
   "metadata": {},
   "outputs": [],
   "source": [
    "\n",
    "\n",
    "s0 = func0(x,m,w)\n",
    "s1 = func1(x,m,w)\n",
    "s2 = func2(x,m,w)"
   ]
  },
  {
   "cell_type": "code",
   "execution_count": 85,
   "metadata": {},
   "outputs": [
    {
     "data": {
      "text/plain": [
       "Text(0, 0.5, 'Energy (Joules)')"
      ]
     },
     "execution_count": 85,
     "metadata": {},
     "output_type": "execute_result"
    },
    {
     "data": {
      "image/png": "[encoded data removed]",
      "text/plain": [
       "<Figure size 432x288 with 1 Axes>"
      ]
     },
     "metadata": {
      "needs_background": "light"
     },
     "output_type": "display_data"
    }
   ],
   "source": [
    "from matplotlib import pyplot as plt\n",
    "plt.ylim(0, 10**-17)\n",
    "plt.plot(x,y,color='r')\n",
    "plt.plot(x,s0)\n",
    "plt.plot(x,s1,color='g')\n",
    "plt.plot(x,s2,color='m')\n",
    "plt.axhline(E0)\n",
    "plt.axhline(E1,color='g')\n",
    "plt.axhline(E2,color='m')\n",
    "plt.xlabel(\"metres\")\n",
    "plt.ylabel(\"Energy (Joules)\")"
   ]
  },
  {
   "cell_type": "code",
   "execution_count": null,
   "metadata": {},
   "outputs": [],
   "source": []
  }
 ],
 "metadata": {
  "kernelspec": {
   "display_name": "Python 3",
   "language": "python",
   "name": "python3"
  },
  "language_info": {
   "codemirror_mode": {
    "name": "ipython",
    "version": 3
   },
   "file_extension": ".py",
   "mimetype": "text/x-python",
   "name": "python",
   "nbconvert_exporter": "python",
   "pygments_lexer": "ipython3",
   "version": "3.7.3"
  }
 },
 "nbformat": 4,
 "nbformat_minor": 2
}
